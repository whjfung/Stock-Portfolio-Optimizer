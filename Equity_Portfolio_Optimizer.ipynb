{
  "nbformat": 4,
  "nbformat_minor": 0,
  "metadata": {
    "colab": {
      "name": "Equity Portfolio Optimizer.py",
      "provenance": [],
      "collapsed_sections": [],
      "authorship_tag": "ABX9TyM9R1KRGLmdUMWzxJjV4dWb"
    },
    "kernelspec": {
      "name": "python3",
      "display_name": "Python 3"
    },
    "language_info": {
      "name": "python"
    }
  },
  "cells": [
    {
      "cell_type": "code",
      "metadata": {
        "id": "oZ1P0KD3WjfD"
      },
      "source": [
        "# Description: This program is inspired by Youtube channel Computer Science at https://www.youtube.com/watch?v=bvDkel5whUY\n",
        "#              It extracts live > 10Y historical data from Yahoo Finance and produces an optimized stock portfolio from S&P 500."
      ],
      "execution_count": 1,
      "outputs": []
    },
    {
      "cell_type": "code",
      "metadata": {
        "id": "HiA0f2m06gtX",
        "colab": {
          "base_uri": "https://localhost:8080/"
        },
        "outputId": "9d293699-41ed-4b14-8e66-bc5129f9f9d9"
      },
      "source": [
        "portfolio_val = int(input(\"How much do you want to invest in? \"))"
      ],
      "execution_count": 2,
      "outputs": [
        {
          "output_type": "stream",
          "text": [
            "How much do you want to invest in? 100000\n"
          ],
          "name": "stdout"
        }
      ]
    },
    {
      "cell_type": "code",
      "metadata": {
        "id": "u5fK4CCAmrQL"
      },
      "source": [
        "pip install yfinance"
      ],
      "execution_count": null,
      "outputs": []
    },
    {
      "cell_type": "code",
      "metadata": {
        "id": "T4Q00O0siGNd"
      },
      "source": [
        "import pandas_datareader as web\n",
        "import numpy as np \n",
        "import pandas as pd\n",
        "import yfinance as yf\n",
        "import datetime\n",
        "import time\n",
        "import requests\n",
        "import io"
      ],
      "execution_count": 4,
      "outputs": []
    },
    {
      "cell_type": "code",
      "metadata": {
        "id": "D7PIxpxjhk4-",
        "colab": {
          "base_uri": "https://localhost:8080/"
        },
        "outputId": "a3ec44da-25a3-42e6-80c3-a0e827e8d70b"
      },
      "source": [
        "# Get Data from NASDAQ\n",
        "print(\"\\nDownloading 10Y Past Performance of S&P500 constituents from Yahoo Finance...\\n\")\n",
        "start = datetime.datetime(2010,1,1)\n",
        "end = datetime.datetime.now()\n",
        "\n",
        "url=\"https://pkgstore.datahub.io/core/s-and-p-500-companies/constituents_csv/data/e613177765e570e43c2a1e8330bf73bf/constituents_csv.csv\"\n",
        "s = requests.get(url).content\n",
        "companies = pd.read_csv(io.StringIO(s.decode('utf-8')))\n",
        "\n",
        "Stocks = companies['Symbol'].tolist()\n",
        "\n",
        "Stocks = [stock.replace('.', '-') for stock in Stocks]\n",
        "\n",
        "df = yf.download(Stocks,start,end)[\"Adj Close\"]\n",
        "\n",
        "df = df.dropna(axis=1, how='all')"
      ],
      "execution_count": 5,
      "outputs": [
        {
          "output_type": "stream",
          "text": [
            "\n",
            "Downloading 10Y Past Performance of S&P500 constituents from Yahoo Finance...\n",
            "\n",
            "[*********************100%***********************]  505 of 505 completed\n"
          ],
          "name": "stdout"
        }
      ]
    },
    {
      "cell_type": "code",
      "metadata": {
        "id": "KBZO9sK1rPq6"
      },
      "source": [
        "assets = df.columns"
      ],
      "execution_count": 6,
      "outputs": []
    },
    {
      "cell_type": "code",
      "metadata": {
        "id": "HDxigtpsr1Jq"
      },
      "source": [
        "pip install PyPortfolioOpt"
      ],
      "execution_count": null,
      "outputs": []
    },
    {
      "cell_type": "code",
      "metadata": {
        "id": "raWMLeRksBR8"
      },
      "source": [
        "# Optimize the Portfolio\n",
        "from pypfopt.efficient_frontier import EfficientFrontier\n",
        "from pypfopt import risk_models\n",
        "from pypfopt import expected_returns"
      ],
      "execution_count": 8,
      "outputs": []
    },
    {
      "cell_type": "code",
      "metadata": {
        "id": "gKyxSgE2sy6f"
      },
      "source": [
        "# Calculate the expected annualised returns and the annualized sample covariance matrix of the daily asset returns\n",
        "exp_r = expected_returns.mean_historical_return(df)\n",
        "sam_c = risk_models.sample_cov(df)"
      ],
      "execution_count": null,
      "outputs": []
    },
    {
      "cell_type": "code",
      "metadata": {
        "id": "kdMdvCT9tFqj",
        "colab": {
          "base_uri": "https://localhost:8080/"
        },
        "outputId": "dd9c190c-c63b-440b-e4c0-a19d23235920"
      },
      "source": [
        "# Optimize for miximal Sharpe ratio\n",
        "ef = EfficientFrontier(exp_r, sam_c)\n",
        "weights = ef.max_sharpe()\n",
        "\n",
        "cleaned_weights = ef.clean_weights()\n",
        "print(cleaned_weights)\n",
        "ef.portfolio_performance(verbose = True)"
      ],
      "execution_count": 10,
      "outputs": [
        {
          "output_type": "stream",
          "text": [
            "OrderedDict([('A', 0.0), ('AAL', 0.0), ('AAP', 0.0), ('AAPL', 0.0), ('ABBV', 0.0), ('ABC', 0.0), ('ABMD', 0.0), ('ABT', 0.0), ('ACN', 0.0), ('ADBE', 0.0), ('ADI', 0.0), ('ADM', 0.0), ('ADP', 0.0), ('ADSK', 0.0), ('AEE', 0.0), ('AEP', 0.0), ('AES', 0.0), ('AFL', 0.0), ('AIG', 0.0), ('AIZ', 0.0), ('AJG', 0.0), ('AKAM', 0.0), ('ALB', 0.0), ('ALGN', 0.0), ('ALK', 0.0), ('ALL', 0.0), ('ALLE', 0.0), ('ALXN', 0.0), ('AMAT', 0.0), ('AMCR', 0.0), ('AMD', 0.0), ('AME', 0.0), ('AMGN', 0.0), ('AMP', 0.0), ('AMT', 0.0), ('AMZN', 0.0), ('ANET', 0.0), ('ANSS', 0.0), ('ANTM', 0.0), ('AON', 0.0), ('AOS', 0.0), ('APA', 0.0), ('APD', 0.0), ('APH', 0.0), ('APTV', 0.0), ('ARE', 0.0), ('ATO', 0.0), ('ATVI', 0.0), ('AVB', 0.0), ('AVGO', 0.0), ('AVY', 0.0), ('AWK', 0.0), ('AXP', 0.0), ('AZO', 0.0), ('BA', 0.0), ('BAC', 0.0), ('BAX', 0.0), ('BBY', 0.0), ('BDX', 0.0), ('BEN', 0.0), ('BF-B', 0.0), ('BIIB', 0.0), ('BIO', 0.0), ('BK', 0.0), ('BKNG', 0.0), ('BKR', 0.0), ('BLK', 0.0), ('BLL', 0.0), ('BMY', 0.0), ('BR', 0.0), ('BRK-B', 0.0), ('BSX', 0.0), ('BWA', 0.0), ('BXP', 0.0), ('C', 0.0), ('CAG', 0.0), ('CAH', 0.0), ('CARR', 0.37881), ('CAT', 0.0), ('CB', 0.0), ('CBOE', 0.0), ('CBRE', 0.0), ('CCI', 0.0), ('CCL', 0.0), ('CDNS', 0.0), ('CDW', 0.0), ('CE', 0.0), ('CERN', 0.0), ('CF', 0.0), ('CFG', 0.0), ('CHD', 0.0), ('CHRW', 0.0), ('CHTR', 0.03924), ('CI', 0.0), ('CINF', 0.0), ('CL', 0.0), ('CLX', 0.15149), ('CMA', 0.0), ('CMCSA', 0.0), ('CME', 0.0), ('CMG', 0.0), ('CMI', 0.0), ('CMS', 0.0), ('CNC', 0.0), ('CNP', 0.0), ('COF', 0.0), ('COG', 0.0), ('COO', 0.0), ('COP', 0.0), ('COST', 0.01318), ('CPB', 0.0), ('CPRT', 0.0), ('CRM', 0.0), ('CSCO', 0.0), ('CSX', 0.0), ('CTAS', 0.0), ('CTLT', 0.0), ('CTSH', 0.0), ('CTVA', 0.0), ('CTXS', 0.0), ('CVS', 0.0), ('CVX', 0.0), ('CZR', 0.0), ('D', 0.0), ('DAL', 0.0), ('DD', 0.0), ('DE', 0.0), ('DFS', 0.0), ('DG', 0.01546), ('DGX', 0.0), ('DHI', 0.0), ('DHR', 0.0), ('DIS', 0.0), ('DISCA', 0.0), ('DISCK', 0.0), ('DISH', 0.0), ('DLR', 0.0), ('DLTR', 0.0), ('DOV', 0.0), ('DOW', 0.0), ('DPZ', 0.28629), ('DRE', 0.0), ('DRI', 0.0), ('DTE', 0.0), ('DUK', 0.0), ('DVA', 0.0), ('DVN', 0.0), ('DXC', 0.0), ('DXCM', 0.0), ('EA', 0.0), ('EBAY', 0.0), ('ECL', 0.0), ('ED', 0.0), ('EFX', 0.0), ('EIX', 0.0), ('EL', 0.0), ('EMN', 0.0), ('EMR', 0.0), ('ENPH', 0.0), ('EOG', 0.0), ('EQIX', 0.0), ('EQR', 0.0), ('ES', 0.0), ('ESS', 0.0), ('ETN', 0.0), ('ETR', 0.0), ('ETSY', 0.0), ('EVRG', 0.0), ('EW', 0.0), ('EXC', 0.0), ('EXPD', 0.0), ('EXPE', 0.0), ('EXR', 0.0), ('F', 0.0), ('FANG', 0.0), ('FAST', 0.0), ('FB', 0.0), ('FBHS', 0.0), ('FCX', 0.0), ('FDX', 0.0), ('FE', 0.0), ('FFIV', 0.0), ('FIS', 0.0), ('FISV', 0.0), ('FITB', 0.0), ('FLIR', 0.0), ('FLT', 0.0), ('FMC', 0.0), ('FOX', 0.0), ('FOXA', 0.0), ('FRC', 0.0), ('FRT', 0.0), ('FTNT', 0.0), ('FTV', 0.0), ('GD', 0.0), ('GE', 0.0), ('GILD', 0.0), ('GIS', 0.0), ('GL', 0.0), ('GLW', 0.0), ('GM', 0.0), ('GNRC', 0.0), ('GOOG', 0.0), ('GOOGL', 0.0), ('GPC', 0.0), ('GPN', 0.0), ('GPS', 0.0), ('GRMN', 0.0), ('GS', 0.0), ('GWW', 0.0), ('HAL', 0.0), ('HAS', 0.0), ('HBAN', 0.0), ('HBI', 0.0), ('HCA', 0.0), ('HD', 0.0), ('HES', 0.0), ('HFC', 0.0), ('HIG', 0.0), ('HII', 0.0), ('HLT', 0.0), ('HOLX', 0.0), ('HON', 0.0), ('HPE', 0.0), ('HPQ', 0.0), ('HRL', 0.0), ('HSIC', 0.0), ('HST', 0.0), ('HSY', 0.0), ('HUM', 0.0), ('HWM', 0.0), ('IBM', 0.0), ('ICE', 0.0), ('IDXX', 0.0), ('IEX', 0.0), ('IFF', 0.0), ('ILMN', 0.0), ('INCY', 0.0), ('INFO', 0.0), ('INTC', 0.0), ('INTU', 0.0), ('IP', 0.0), ('IPG', 0.0), ('IPGP', 0.0), ('IQV', 0.0), ('IR', 0.0), ('IRM', 0.0), ('ISRG', 0.0), ('IT', 0.0), ('ITW', 0.0), ('IVZ', 0.0), ('J', 0.0), ('JBHT', 0.0), ('JCI', 0.0), ('JKHY', 0.0), ('JNJ', 0.0), ('JNPR', 0.0), ('JPM', 0.0), ('K', 0.0), ('KEY', 0.0), ('KEYS', 0.0), ('KHC', 0.0), ('KIM', 0.0), ('KLAC', 0.0), ('KMB', 0.0), ('KMI', 0.0), ('KMX', 0.0), ('KO', 0.0), ('KR', 0.0), ('KSU', 0.0), ('L', 0.0), ('LB', 0.0), ('LDOS', 0.0), ('LEG', 0.0), ('LEN', 0.0), ('LH', 0.0), ('LHX', 0.0), ('LIN', 0.0), ('LKQ', 0.0), ('LLY', 0.0), ('LMT', 0.0), ('LNC', 0.0), ('LNT', 0.0), ('LOW', 0.0), ('LRCX', 0.0), ('LUMN', 0.0), ('LUV', 0.0), ('LVS', 0.0), ('LW', 0.0), ('LYB', 0.0), ('LYV', 0.0), ('MA', 0.0), ('MAA', 0.0), ('MAR', 0.0), ('MAS', 0.0), ('MCD', 0.0), ('MCHP', 0.0), ('MCK', 0.0), ('MCO', 0.0), ('MDLZ', 0.0), ('MDT', 0.0), ('MET', 0.0), ('MGM', 0.0), ('MHK', 0.0), ('MKC', 0.0), ('MKTX', 0.0), ('MLM', 0.0), ('MMC', 0.0), ('MMM', 0.0), ('MNST', 0.0), ('MO', 0.0), ('MOS', 0.0), ('MPC', 0.0), ('MPWR', 0.0), ('MRK', 0.0), ('MRO', 0.0), ('MS', 0.0), ('MSCI', 0.0), ('MSFT', 0.0), ('MSI', 0.0), ('MTB', 0.0), ('MTD', 0.0), ('MU', 0.0), ('MXIM', 0.0), ('NCLH', 0.0), ('NDAQ', 0.0), ('NEE', 0.0), ('NEM', 0.0), ('NFLX', 0.05915), ('NI', 0.0), ('NKE', 0.0), ('NLOK', 0.0), ('NLSN', 0.0), ('NOC', 0.0), ('NOV', 0.0), ('NOW', 0.0), ('NRG', 0.0), ('NSC', 0.0), ('NTAP', 0.0), ('NTRS', 0.0), ('NUE', 0.0), ('NVDA', 0.0), ('NVR', 0.0), ('NWL', 0.0), ('NWS', 0.0), ('NWSA', 0.0), ('NXPI', 0.0), ('O', 0.0), ('ODFL', 0.0), ('OKE', 0.0), ('OMC', 0.0), ('ORCL', 0.0), ('ORLY', 0.0), ('OTIS', 0.0), ('OXY', 0.0), ('PAYC', 0.0), ('PAYX', 0.0), ('PBCT', 0.0), ('PCAR', 0.0), ('PEAK', 0.0), ('PEG', 0.0), ('PENN', 0.0), ('PEP', 0.0), ('PFE', 0.0), ('PFG', 0.0), ('PG', 0.0), ('PGR', 0.0), ('PH', 0.0), ('PHM', 0.0), ('PKG', 0.0), ('PKI', 0.0), ('PLD', 0.0), ('PM', 0.0), ('PNC', 0.0), ('PNR', 0.0), ('PNW', 0.0), ('POOL', 0.01942), ('PPG', 0.0), ('PPL', 0.0), ('PRGO', 0.0), ('PRU', 0.0), ('PSA', 0.0), ('PSX', 0.0), ('PTC', 0.0), ('PVH', 0.0), ('PWR', 0.0), ('PXD', 0.0), ('PYPL', 0.0), ('QCOM', 0.0), ('QRVO', 0.0), ('RCL', 0.0), ('RE', 0.0), ('REG', 0.0), ('REGN', 0.02204), ('RF', 0.0), ('RHI', 0.0), ('RJF', 0.0), ('RL', 0.0), ('RMD', 0.0), ('ROK', 0.0), ('ROL', 0.0), ('ROP', 0.0), ('ROST', 0.0), ('RSG', 0.0), ('RTX', 0.0), ('SBAC', 0.0), ('SBUX', 0.0), ('SCHW', 0.0), ('SEE', 0.0), ('SHW', 0.0), ('SIVB', 0.0), ('SJM', 0.0), ('SLB', 0.0), ('SNA', 0.0), ('SNPS', 0.0), ('SO', 0.0), ('SPG', 0.0), ('SPGI', 0.0), ('SRE', 0.0), ('STE', 0.0), ('STT', 0.0), ('STX', 0.0), ('STZ', 0.0), ('SWK', 0.0), ('SWKS', 0.0), ('SYF', 0.0), ('SYK', 0.0), ('SYY', 0.0), ('T', 0.0), ('TAP', 0.0), ('TDG', 0.0), ('TDY', 0.0), ('TEL', 0.0), ('TER', 0.0), ('TFC', 0.0), ('TFX', 0.0), ('TGT', 0.0), ('TJX', 0.0), ('TMO', 0.0), ('TMUS', 0.0), ('TPR', 0.0), ('TRMB', 0.0), ('TROW', 0.0), ('TRV', 0.0), ('TSCO', 0.0), ('TSLA', 0.0), ('TSN', 0.0), ('TT', 0.0), ('TTWO', 0.0), ('TWTR', 0.0), ('TXN', 0.0), ('TXT', 0.0), ('TYL', 0.0), ('UA', 0.0), ('UAA', 0.0), ('UAL', 0.0), ('UDR', 0.0), ('UHS', 0.0), ('ULTA', 0.0), ('UNH', 0.0), ('UNM', 0.0), ('UNP', 0.0), ('UPS', 0.0), ('URI', 0.0), ('USB', 0.0), ('V', 0.0), ('VFC', 0.0), ('VIAC', 0.0), ('VLO', 0.0), ('VMC', 0.0), ('VNO', 0.0), ('VRSK', 0.0), ('VRSN', 0.0), ('VRTX', 0.0), ('VTR', 0.0), ('VTRS', 0.0), ('VZ', 0.0), ('WAB', 0.0), ('WAT', 0.0), ('WBA', 0.0), ('WDC', 0.0), ('WEC', 0.01491), ('WELL', 0.0), ('WFC', 0.0), ('WHR', 0.0), ('WLTW', 0.0), ('WM', 0.0), ('WMB', 0.0), ('WMT', 0.0), ('WRB', 0.0), ('WRK', 0.0), ('WST', 0.0), ('WU', 0.0), ('WY', 0.0), ('WYNN', 0.0), ('XEL', 0.0), ('XLNX', 0.0), ('XOM', 0.0), ('XRAY', 0.0), ('XYL', 0.0), ('YUM', 0.0), ('ZBH', 0.0), ('ZBRA', 0.0), ('ZION', 0.0), ('ZTS', 0.0)])\n",
            "Expected annual return: 99.5%\n",
            "Annual volatility: 27.3%\n",
            "Sharpe Ratio: 3.58\n"
          ],
          "name": "stdout"
        },
        {
          "output_type": "execute_result",
          "data": {
            "text/plain": [
              "(0.9952381014789006, 0.27272345474708287, 3.5759230990356614)"
            ]
          },
          "metadata": {
            "tags": []
          },
          "execution_count": 10
        }
      ]
    },
    {
      "cell_type": "code",
      "metadata": {
        "id": "hoOFSVoRwtmX"
      },
      "source": [
        "pip install pulp"
      ],
      "execution_count": null,
      "outputs": []
    },
    {
      "cell_type": "code",
      "metadata": {
        "id": "EfzSWwYWw3CL"
      },
      "source": [
        "# Get the discrete allocation of each share per stock\n",
        "from pypfopt.discrete_allocation import DiscreteAllocation, get_latest_prices\n",
        "\n",
        "latest_prices = get_latest_prices(df)\n",
        "weights = cleaned_weights\n",
        "da = DiscreteAllocation(weights, latest_prices, portfolio_val)\n",
        "allocation, leftover = da.lp_portfolio()\n",
        "#print('Discrete allocation: ', allocation)\n",
        "#print('Remaining Cash: $', leftover)"
      ],
      "execution_count": 12,
      "outputs": []
    },
    {
      "cell_type": "code",
      "metadata": {
        "id": "DnGVjf4n1Gu4"
      },
      "source": [
        "# Funcation that gets company name from its ticker\n",
        "def get_name(symbol):\n",
        "    url = \"http://d.yimg.com/autoc.finance.yahoo.com/autoc?query={}&region=1&lang=en\".format(symbol)\n",
        "\n",
        "    result = requests.get(url).json()\n",
        "\n",
        "    for x in result['ResultSet']['Result']:\n",
        "        if x['symbol'] == symbol:\n",
        "            return x['name']"
      ],
      "execution_count": 13,
      "outputs": []
    },
    {
      "cell_type": "code",
      "metadata": {
        "id": "8bYF_pHy2AKg"
      },
      "source": [
        "# Get company names\n",
        "company_list = []\n",
        "for symbol in allocation:\n",
        "  company_list.append(get_name(symbol))"
      ],
      "execution_count": 14,
      "outputs": []
    },
    {
      "cell_type": "code",
      "metadata": {
        "id": "vaJaJVNh2RTS"
      },
      "source": [
        "# Get discrete allocation Values\n",
        "discrete_allocation_list = []\n",
        "for symbol in allocation:\n",
        "  discrete_allocation_list.append(allocation.get(symbol))"
      ],
      "execution_count": 15,
      "outputs": []
    },
    {
      "cell_type": "code",
      "metadata": {
        "id": "aMMMBRZ52tgO"
      },
      "source": [
        "# Create dataframe for portfolio\n",
        "portfolio_df = pd.DataFrame(columns = ['Company name', 'Ticker', 'No. of shares to hold'])"
      ],
      "execution_count": 16,
      "outputs": []
    },
    {
      "cell_type": "code",
      "metadata": {
        "id": "JuQHCoNr3LA_"
      },
      "source": [
        "portfolio_df['Company name'] = company_list\n",
        "portfolio_df['Ticker'] = allocation\n",
        "portfolio_df['No. of shares to hold'] = discrete_allocation_list"
      ],
      "execution_count": 17,
      "outputs": []
    },
    {
      "cell_type": "code",
      "metadata": {
        "id": "zaiUwgN93clU",
        "colab": {
          "base_uri": "https://localhost:8080/"
        },
        "outputId": "25e0bf18-0ab8-43f5-a030-9034666007c9"
      },
      "source": [
        "# Show the portfolio\n",
        "print(\"********* Recommended Portfolio for USD$\",portfolio_val,\" *********\\n\")\n",
        "print(portfolio_df)\n",
        "print(\"\\n\")\n",
        "print('Remaining Cash: $', leftover)"
      ],
      "execution_count": 18,
      "outputs": [
        {
          "output_type": "stream",
          "text": [
            "********* Recommended Portfolio for USD$ 100000  *********\n",
            "\n",
            "                      Company name Ticker  No. of shares to hold\n",
            "0       Carrier Global Corporation   CARR                    868\n",
            "1     Charter Communications, Inc.   CHTR                      6\n",
            "2               The Clorox Company    CLX                     84\n",
            "3     Costco Wholesale Corporation   COST                      3\n",
            "4       Dollar General Corporation     DG                      8\n",
            "5             Domino's Pizza, Inc.    DPZ                     67\n",
            "6                    Netflix, Inc.   NFLX                     12\n",
            "7                 Pool Corporation   POOL                      4\n",
            "8  Regeneron Pharmaceuticals, Inc.   REGN                      4\n",
            "9           WEC Energy Group, Inc.    WEC                     15\n",
            "\n",
            "\n",
            "Remaining Cash: $ 14.509323120117188\n"
          ],
          "name": "stdout"
        }
      ]
    }
  ]
}